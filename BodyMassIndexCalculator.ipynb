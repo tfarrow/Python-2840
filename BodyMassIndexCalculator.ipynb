{
 "cells": [
  {
   "cell_type": "code",
   "execution_count": 1,
   "metadata": {},
   "outputs": [
    {
     "name": "stdout",
     "output_type": "stream",
     "text": [
      "What is the temperature of the water? 56\n",
      "The water is liquid.\n"
     ]
    }
   ],
   "source": [
    "# Water Temperature\n",
    "\n",
    "water_temp = int(input('What is the temperature of the water? '))\n",
    "if water_temp >= 212:\n",
    "    print('The water is boiling!')\n",
    "elif water_temp >= 32:\n",
    "    print('The water is liquid!')\n",
    "else:\n",
    "    print('The water is frozen!')"
   ]
  },
  {
   "cell_type": "code",
   "execution_count": 2,
   "metadata": {},
   "outputs": [
    {
     "name": "stdout",
     "output_type": "stream",
     "text": [
      "How much do you weigh? 150\n",
      "How many inches tall are you? 73\n",
      "Your BMI is:  19.787952711578157\n",
      "You are normal(healthy weight).\n"
     ]
    }
   ],
   "source": [
    "# The Body Mass Index\n",
    "\n",
    "weight = int(input('How much do you weigh? '))\n",
    "height = int(input('How many inches tall are you? '))\n",
    "bmi = (weight/height**2)* 703\n",
    "\n",
    "print('Your BMI is: ', bmi)\n",
    "\n",
    "if bmi >= 30:\n",
    "    print('You are obese. Refer to Dr. Walker')\n",
    "elif bmi >= 25:\n",
    "    print('You are overweight.')\n",
    "elif bmi >= 18.5:\n",
    "    print('You are normal(healthy weight).')\n",
    "elif bmi >= 16:\n",
    "    print('You are underweight.')\n",
    "else:\n",
    "    print('You are severely underweight. Refer to Dr. Nielsen')\n",
    "    "
   ]
  }
 ],
 "metadata": {
  "kernelspec": {
   "display_name": "Python 3",
   "language": "python",
   "name": "python3"
  },
  "language_info": {
   "codemirror_mode": {
    "name": "ipython",
    "version": 3
   },
   "file_extension": ".py",
   "mimetype": "text/x-python",
   "name": "python",
   "nbconvert_exporter": "python",
   "pygments_lexer": "ipython3",
   "version": "3.8.5"
  }
 },
 "nbformat": 4,
 "nbformat_minor": 4
}